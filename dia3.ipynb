{
 "cells": [
  {
   "cell_type": "code",
   "execution_count": 1,
   "id": "84b3ba60",
   "metadata": {},
   "outputs": [
    {
     "name": "stdout",
     "output_type": "stream",
     "text": [
      "Hola Mundo\n"
     ]
    }
   ],
   "source": [
    "def imprimir_saludo():\n",
    "    print('Hola Mundo')\n",
    "\n",
    "imprimir_saludo()"
   ]
  },
  {
   "cell_type": "markdown",
   "id": "41925345",
   "metadata": {},
   "source": [
    "## Challenge 1 🤺 - 10m\n",
    "\n",
    "Crear una función que imprima la variable palabra."
   ]
  },
  {
   "cell_type": "code",
   "execution_count": 3,
   "id": "d41b732c",
   "metadata": {},
   "outputs": [
    {
     "name": "stdout",
     "output_type": "stream",
     "text": [
      "<function palabra at 0x000001ACC0497A60>\n"
     ]
    }
   ],
   "source": [
    "palabra = 'hola'\n",
    "\n",
    "def palabra () :\n",
    "    print (palabra)\n",
    "\n",
    "palabra ()"
   ]
  },
  {
   "cell_type": "code",
   "execution_count": null,
   "id": "d7b27121",
   "metadata": {},
   "outputs": [],
   "source": [
    "#Crear un funcion que imprima la variable palabra\n",
    "def imprimir_palabra():\n",
    "    print(\"palabra\")\n",
    "\n",
    "imprimir_palabra()"
   ]
  },
  {
   "cell_type": "code",
   "execution_count": 6,
   "id": "45df9ec7",
   "metadata": {},
   "outputs": [
    {
     "name": "stdout",
     "output_type": "stream",
     "text": [
      "3\n"
     ]
    }
   ],
   "source": [
    "def sumar_numeros(numero1, numero2):\n",
    "    suma = numero1 + numero2\n",
    "    print(suma)\n",
    "\n",
    "sumar_numeros(1, 2)"
   ]
  },
  {
   "cell_type": "markdown",
   "id": "e298dcd2",
   "metadata": {},
   "source": [
    "## Challenge 2 🤺 - 15 min\n",
    "Crear una función que reciba dos letras (parámetros) y que verifique si son iguales:\n",
    "\n",
    "1. Si son iguales, imprimir \"Las letras son iguales\".\n",
    "\n",
    "2. De lo contrario, imprimir \"Las letras son diferentes\"."
   ]
  },
  {
   "cell_type": "code",
   "execution_count": 11,
   "id": "60bb4b91",
   "metadata": {},
   "outputs": [
    {
     "name": "stdout",
     "output_type": "stream",
     "text": [
      "las letras son diferentes\n"
     ]
    }
   ],
   "source": [
    "#crear una funcion que solicite 2 letras\n",
    "# que verifique si son iguales o diferentes\n",
    "def comparar_letras(letra1, letr2):\n",
    "    if letra1 == letr2:\n",
    "        print ('las letras son iguales')\n",
    "    elif letra1 != letr2:\n",
    "        print ('las letras son diferentes')\n",
    "\n",
    "letra_1 = input('escribe una letra') \n",
    "letra_2 = input('escribe otra letra')\n",
    "\n",
    "comparar_letras(letra_1, letra_2)\n"
   ]
  },
  {
   "cell_type": "code",
   "execution_count": 8,
   "id": "aa0cd143",
   "metadata": {},
   "outputs": [
    {
     "name": "stdout",
     "output_type": "stream",
     "text": [
      "Las letras son iguales\n"
     ]
    }
   ],
   "source": [
    "def comparacion_de_letras(letra1, letra2):\n",
    "    if letra1 == letra2:\n",
    "        print(\"Las letras son iguales\")\n",
    "    else:\n",
    "        print(\"las letras son diferentes\")\n",
    "\n",
    "comparacion_de_letras(\"j\",\"j\")"
   ]
  },
  {
   "cell_type": "code",
   "execution_count": 16,
   "id": "520f55d7",
   "metadata": {},
   "outputs": [
    {
     "data": {
      "text/plain": [
       "3"
      ]
     },
     "execution_count": 16,
     "metadata": {},
     "output_type": "execute_result"
    }
   ],
   "source": [
    "def sumatoria (numero1, numero2):\n",
    "    sumar = numero1 + numero2\n",
    "    return sumar\n",
    "\n",
    "sumatoria(1, 2)"
   ]
  },
  {
   "cell_type": "code",
   "execution_count": 19,
   "id": "1dce1be6",
   "metadata": {},
   "outputs": [
    {
     "name": "stdout",
     "output_type": "stream",
     "text": [
      "4.2\n"
     ]
    }
   ],
   "source": [
    "suma1 = sumatoria(1.2, 2)\n",
    "total = suma1 + 1\n",
    "print(total)"
   ]
  },
  {
   "cell_type": "markdown",
   "id": "63c38a5a",
   "metadata": {},
   "source": [
    "## Challenge 3 🤺 - 20m\n",
    "\n",
    "Crear una función que reciba dos parámetros (una palabra y un número), y que retorne `True` si el número es igual a la cantidad de letras de la palabra. En caso contrario, que retorne `False`.\n",
    "\n",
    "Pista: `cantidad de letras de una palabra en python`"
   ]
  },
  {
   "cell_type": "code",
   "execution_count": 21,
   "id": "770134df",
   "metadata": {},
   "outputs": [
    {
     "data": {
      "text/plain": [
       "False"
      ]
     },
     "execution_count": 21,
     "metadata": {},
     "output_type": "execute_result"
    }
   ],
   "source": [
    "def comparacion_letra_numero (letra, numero):\n",
    "    if len (letra) == numero:\n",
    "        return True\n",
    "    else:\n",
    "        return False\n",
    "\n",
    "comparacion_letra_numero(\"hola\", 5)"
   ]
  },
  {
   "cell_type": "code",
   "execution_count": null,
   "id": "6cb09209",
   "metadata": {},
   "outputs": [],
   "source": [
    "def compararcantidad(palabra, numero):\n",
    "    while len(palabra) != numero:\n",
    "        print(\"False\")\n",
    "    print(\"True\")\n",
    "\n",
    "palabra = input(\"Ingrese la palabra: \")\n",
    "numero_ = int(input(\"Ingrese el número: \"))\n",
    "\n",
    "compararcantidad(palabra, numero_)"
   ]
  },
  {
   "cell_type": "code",
   "execution_count": 22,
   "id": "9457e0f9",
   "metadata": {},
   "outputs": [
    {
     "name": "stdout",
     "output_type": "stream",
     "text": [
      "hola\n",
      "edu\n"
     ]
    }
   ],
   "source": [
    "palabra_a_encontrar = input(\"Ingrese una palabra:\")\n",
    "print(palabra_a_encontrar)\n",
    "\n",
    "palabra_ingresada = input('Ingrese otra palabra')\n",
    "print(palabra_ingresada)\n"
   ]
  },
  {
   "cell_type": "code",
   "execution_count": 23,
   "id": "e87e3e96",
   "metadata": {},
   "outputs": [
    {
     "name": "stdout",
     "output_type": "stream",
     "text": [
      "['h', 'o', 'l', 'a']\n",
      "['e', 'd', 'u']\n"
     ]
    }
   ],
   "source": [
    "lista_de_letras_de_la_palabra_a_encontrar = list(palabra_a_encontrar)\n",
    "print(lista_de_letras_de_la_palabra_a_encontrar)\n",
    "\n",
    "lista_de_letras_de_la_palabra_ingresada = list(palabra_ingresada)\n",
    "print(lista_de_letras_de_la_palabra_ingresada)"
   ]
  },
  {
   "cell_type": "markdown",
   "id": "b0d14a2d",
   "metadata": {},
   "source": [
    "## Challenge 5 🤺 - 25m\n",
    "\n",
    "Pedir al usuario que ingrese 1 palabra, luego convertir esa palabra a una lista con sus caracteres con `list()`. Agregar esa lista de caracteres a una lista llamada `palabras_ingresadas`. Repetir el proceso 3 veces. Cada vez que se agregue una lista de caracteres, imprimir la lista `palabras_ingresadas`.\n",
    "\n",
    "\n",
    "Ejemplo del resultado esperado:\n",
    "\n",
    "```[['c', 'i', 'e', 'l', 'o']]``` # Al ingresar la primera palabra\n",
    "\n",
    "```[['c', 'i', 'e', 'l', 'o'], ['c', 'a', 'l', 'o', 'r']]``` # Al ingresar la segunda palabra\n",
    "\n",
    "```[['c', 'i', 'e', 'l', 'o'], ['c', 'a', 'l', 'o', 'r'], ['n', 'u', 'b', 'e', 's']]``` # Al ingresar la tercera palabra"
   ]
  },
  {
   "cell_type": "code",
   "execution_count": 25,
   "id": "a407c4cc",
   "metadata": {},
   "outputs": [
    {
     "name": "stdout",
     "output_type": "stream",
     "text": [
      "[['h', 'o', 'l', 'a']]\n",
      "[['h', 'o', 'l', 'a'], ['c', 'h', 'a', 'u']]\n",
      "[['h', 'o', 'l', 'a'], ['c', 'h', 'a', 'u'], ['c', 'o', 'm', 'o']]\n"
     ]
    }
   ],
   "source": [
    "palabras_ingresadas = []\n",
    "for i in range(3):\n",
    "    palabra_user = input('Introduce una palabra crack:')\n",
    "    palabra_listeada = list(palabra_user)\n",
    "    palabras_ingresadas.append(palabra_listeada)\n",
    "    print(palabras_ingresadas)"
   ]
  },
  {
   "cell_type": "code",
   "execution_count": null,
   "id": "0a96a342",
   "metadata": {},
   "outputs": [],
   "source": [
    "palabras_ingresadas = []\n",
    "\n",
    "for i in range(3):\n",
    "    palabra = input(\"Ingresa una palabra: \")\n",
    "    lista_caracteres = list(palabra)\n",
    "    palabras_ingresadas.append(lista_caracteres)\n",
    "    print(palabras_ingresadas)"
   ]
  },
  {
   "cell_type": "code",
   "execution_count": null,
   "id": "6bc8874e",
   "metadata": {},
   "outputs": [],
   "source": [
    "palabras_ingresadas = []\n",
    "\n",
    "def Conteo():\n",
    "\n",
    "    Palabra_ingresada_usuario = input(\"Pon una palabra\")\n",
    "    palabra_descompuesta = list(Palabra_ingresada_usuario)\n",
    "    palabras_ingresadas.append(palabra_descompuesta)\n",
    "    print(palabras_ingresadas)\n",
    "\n",
    "Conteo()\n",
    "Conteo()\n",
    "Conteo()"
   ]
  },
  {
   "cell_type": "code",
   "execution_count": null,
   "id": "b00197e7",
   "metadata": {},
   "outputs": [],
   "source": [
    "palabras_ingresadas = []\n",
    "\n",
    "palabra1 = input('Ingresa una palabra')\n",
    "palabra1 = list(palabra1)\n",
    "palabras_ingresadas.append(palabra1)\n",
    "print(palabras_ingresadas)\n",
    "\n",
    "palabra2 = input('Ingresa una palabra')\n",
    "palabra2 = list(palabra2)\n",
    "palabras_ingresadas.append(palabra2)\n",
    "print(palabras_ingresadas)\n",
    "\n",
    "palabra3 = input('Ingresa una palabra')\n",
    "palabra3 = list(palabra3)\n",
    "palabras_ingresadas.append(palabra3)\n",
    "print(palabras_ingresadas)"
   ]
  },
  {
   "cell_type": "markdown",
   "id": "70dc5e6b",
   "metadata": {},
   "source": [
    "- Crear una lista vacía `letras_verificadas` para las letras de la palabra luego de ser verificada\n",
    "- Definir la cantidad de letras de la palabra a encontrar\n",
    "- Si las letras existen en la palabra a encontrar y sus posiciones coinciden: encerrar en corchetes `[]` y agregar al resultado\n",
    "- Si las letras existen en la palabra a encontrar pero sus posiciones no coinciden: encerrar en parentesis `()` y agregar al resultado\n",
    "- Si no se cumple ninguna de las anteriores, agregar la letra a la lista vacía sin modificaciones\n",
    "- Retornar el resultado"
   ]
  },
  {
   "cell_type": "code",
   "execution_count": 26,
   "id": "101e6afd",
   "metadata": {},
   "outputs": [],
   "source": [
    "#Crear una funcion que contenga dos parametros\n",
    "def obtener_fila_verificada(palabra_a_encontrar, palabra_ingresada):\n",
    "    #Segundo paso: definir la cantidad de letras de la palabra a encontrar\n",
    "    cantidad_de_letras_de_palabra_a_encontrar = 5\n",
    "\n",
    "    #Tercer paso: Crear una lista vacia para guardar las letras verificadas\n",
    "    letras_verificadas = []\n",
    "\n",
    "    #Cuarto paso: Se recorre cada posicion de la palabra \n",
    "    for posicion in range (cantidad_de_letras_de_palabra_a_encontrar):\n",
    "\n",
    "        #Quinto paso: Comparar las letras en la misma posicion\n",
    "        las_letras_son_iguales = palabra_a_encontrar[posicion] == palabra_ingresada[posicion]\n",
    "\n",
    "        #Sexto paso se verifica si la letra existe en la palabra\n",
    "        la_letra_existe_en_la_palabra = palabra_ingresada[posicion] in palabra_a_encontrar\n",
    "\n",
    "        if las_letras_son_iguales:\n",
    "            letras_verificadas.append('[' + palabra_ingresada[posicion] + ']')\n",
    "        \n",
    "        elif la_letra_existe_en_la_palabra:\n",
    "            letras_verificadas.append('(' + palabra_ingresada[posicion] + ')')\n",
    "        else:\n",
    "            letras_verificadas.append(palabra_ingresada[posicion])\n",
    "\n",
    "        \n",
    "    return letras_verificadas\n"
   ]
  },
  {
   "cell_type": "code",
   "execution_count": 28,
   "id": "d4ab8221",
   "metadata": {},
   "outputs": [
    {
     "name": "stdout",
     "output_type": "stream",
     "text": [
      "['c', '[u]', '[e]', '[v]', 'a']\n"
     ]
    }
   ],
   "source": [
    "palabra_a_encontrar = 'huevo'\n",
    "palabra_ingresada = input(\"Ingrese una palabrotra a de 5 letras\")\n",
    "\n",
    "linea_verificada = obtener_fila_verificada(palabra_a_encontrar, palabra_ingresada)\n",
    "\n",
    "print(linea_verificada)\n"
   ]
  },
  {
   "cell_type": "markdown",
   "id": "3d91e19c",
   "metadata": {},
   "source": [
    "## Challenge 6 🤺 - 25m\n",
    "\n",
    "Dada la lista de ejemplo: \n",
    "\n",
    "lista = [['h', 'o', 'l', 'i', 's'], ['h', 'e', 'l', 'l', 'o'], ['h', 'a', 'l', 'l', 'o']]\n",
    "\n",
    "Crear una función que imprima una grilla (lista de listas), una línea por cada lista dentro de la lista principal.\n",
    "\n",
    "Ejemplo del resultado esperado:\n",
    "\n",
    "```\n",
    "['h', 'o', 'l', 'i', 's']\n",
    "['h', 'e', 'l', 'l', 'o']\n",
    "['h', 'a', 'l', 'l', 'o']\n",
    "```"
   ]
  },
  {
   "cell_type": "code",
   "execution_count": 29,
   "id": "c4879bee",
   "metadata": {},
   "outputs": [
    {
     "name": "stdout",
     "output_type": "stream",
     "text": [
      "['h', 'o', 'l', 'i', 's']\n",
      "['h', 'e', 'l', 'l', 'o']\n",
      "['h', 'a', 'l', 'l', 'o']\n"
     ]
    }
   ],
   "source": [
    "#con funcion\n",
    "\n",
    "lista = [['h', 'o', 'l', 'i', 's'], ['h', 'e', 'l', 'l', 'o'], ['h', 'a', 'l', 'l', 'o']]\n",
    "def imprimir_lista (lista):\n",
    "    print(lista[0])\n",
    "    print(lista[1])\n",
    "    print(lista[2])\n",
    "imprimir_lista(lista)"
   ]
  },
  {
   "cell_type": "code",
   "execution_count": 30,
   "id": "d163a5e9",
   "metadata": {},
   "outputs": [
    {
     "name": "stdout",
     "output_type": "stream",
     "text": [
      "['h', 'o', 'l', 'i', 's']\n",
      "['h', 'e', 'l', 'l', 'o']\n",
      "['h', 'a', 'l', 'l', 'o']\n"
     ]
    }
   ],
   "source": [
    "# #lista dd ejemplo\n",
    "lista_ejemplo = [['h', 'o', 'l', 'i', 's'], ['h', 'e', 'l', 'l', 'o'], ['h', 'a', 'l', 'l', 'o']]\n",
    "\n",
    "# #crear funcion que imprima la lista de listas una linea por cada lista.\n",
    "def imprimir_con_salto(lista_a_imprimir):\n",
    "    for i in lista_a_imprimir:\n",
    "        lista = list(i)\n",
    "        print(lista)\n",
    "\n",
    "imprimir_con_salto(lista_ejemplo)"
   ]
  },
  {
   "cell_type": "code",
   "execution_count": 31,
   "id": "a2d9f5df",
   "metadata": {},
   "outputs": [
    {
     "name": "stdout",
     "output_type": "stream",
     "text": [
      "te quedan 3 intentos\n",
      "te quedan 2 intentos\n",
      "te quedan 1 intentos\n",
      "te quedaste sin intentos\n"
     ]
    }
   ],
   "source": [
    "intentos = 3\n",
    "\n",
    "while intentos > 0:\n",
    "    print(f'te quedan {intentos} intentos')\n",
    "    palabra = input('Ingrese la palabra')\n",
    "    intentos = intentos - 1\n",
    "\n",
    "print('te quedaste sin intentos')"
   ]
  },
  {
   "cell_type": "markdown",
   "id": "642f09e4",
   "metadata": {},
   "source": [
    "INICIAR juego\n",
    "\n",
    "DEFINIR palabra_a_encontrar \n",
    "DEFINIR cantidad_de_letras \n",
    "DEFINIR intentos \n",
    "CREAR grilla vacía (lista para mostrar el progreso del jugador)\n",
    "\n",
    "MOSTRAR mensaje de bienvenida\n",
    "\n",
    "MIENTRAS intentos > 0:\n",
    "    MOSTRAR cantidad de intentos restantes\n",
    "    PEDIR al usuario que ingrese una palabra\n",
    "    RESTAR 1 intento\n",
    "\n",
    "    SI la palabra ingresada NO tiene la longitud correcta:\n",
    "        MOSTRAR mensaje de error\n",
    "        CONTINUAR al siguiente intento (sin procesar la palabra)\n",
    "    \n",
    "    SINO:\n",
    "        LLAMAR a la función verificar_palabra_ingresada con la palabra correcta y la palabra ingresada\n",
    "        GUARDAR el resultado en una lista (línea_verificada)\n",
    "        AGREGAR línea_verificada a la grilla\n",
    "    \n",
    "    MOSTRAR la grilla actualizada\n",
    "\n",
    "    SI la palabra ingresada ES IGUAL a la palabra correcta:\n",
    "        MOSTRAR mensaje de felicitaciones\n",
    "        TERMINAR el juego\n",
    "\n",
    "SI el jugador no adivinó la palabra:\n",
    "    MOSTRAR mensaje de fin del juego"
   ]
  }
 ],
 "metadata": {
  "kernelspec": {
   "display_name": ".venv",
   "language": "python",
   "name": "python3"
  },
  "language_info": {
   "codemirror_mode": {
    "name": "ipython",
    "version": 3
   },
   "file_extension": ".py",
   "mimetype": "text/x-python",
   "name": "python",
   "nbconvert_exporter": "python",
   "pygments_lexer": "ipython3",
   "version": "3.12.6"
  }
 },
 "nbformat": 4,
 "nbformat_minor": 5
}
