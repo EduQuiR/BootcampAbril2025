{
 "cells": [
  {
   "cell_type": "markdown",
   "id": "244b01a7",
   "metadata": {},
   "source": [
    "## Python\n",
    "Es un lenguaje de programación de sintaxis sencilla, amigable y trata de parecerse en lo mayor posible al lenguaje humano.\n",
    "Como está escrito en inglés, es más parecido a ese idioma."
   ]
  },
  {
   "cell_type": "code",
   "execution_count": 1,
   "id": "5b76adc4",
   "metadata": {},
   "outputs": [
    {
     "name": "stdout",
     "output_type": "stream",
     "text": [
      "The Zen of Python, by Tim Peters\n",
      "\n",
      "Beautiful is better than ugly.\n",
      "Explicit is better than implicit.\n",
      "Simple is better than complex.\n",
      "Complex is better than complicated.\n",
      "Flat is better than nested.\n",
      "Sparse is better than dense.\n",
      "Readability counts.\n",
      "Special cases aren't special enough to break the rules.\n",
      "Although practicality beats purity.\n",
      "Errors should never pass silently.\n",
      "Unless explicitly silenced.\n",
      "In the face of ambiguity, refuse the temptation to guess.\n",
      "There should be one-- and preferably only one --obvious way to do it.\n",
      "Although that way may not be obvious at first unless you're Dutch.\n",
      "Now is better than never.\n",
      "Although never is often better than *right* now.\n",
      "If the implementation is hard to explain, it's a bad idea.\n",
      "If the implementation is easy to explain, it may be a good idea.\n",
      "Namespaces are one honking great idea -- let's do more of those!\n"
     ]
    }
   ],
   "source": [
    "import this\n"
   ]
  },
  {
   "cell_type": "code",
   "execution_count": 1,
   "id": "4faa7b56",
   "metadata": {},
   "outputs": [
    {
     "name": "stdout",
     "output_type": "stream",
     "text": [
      "Hola mundo\n"
     ]
    }
   ],
   "source": [
    "print(\"Hola mundo\")"
   ]
  },
  {
   "cell_type": "markdown",
   "id": "e981963a",
   "metadata": {},
   "source": [
    "## Variable\n",
    "Las variables son espacios en memoria de la computadora en los cuales podemos guardar datos durante la ejecución de nuestro programa.\n",
    "\n",
    "✏️ ¿Cómo nombrar una variable?\n",
    "Algunas reglas y buenas prácticas para nombrar variables en Python:\n",
    "\n",
    "- ✅ Puede incluir letras, números y guiones bajos (_).\n",
    "- ✅ Debe empezar con una letra o guión bajo, nunca con un número.\n",
    "- ✅ Evitar usar palabras reservadas de Python (como print, def, if, etc).\n",
    "- ✅ Usar nombres descriptivos (¡no pongas x, a, b si no hace falta!)."
   ]
  },
  {
   "cell_type": "code",
   "execution_count": null,
   "id": "af44685a",
   "metadata": {},
   "outputs": [
    {
     "name": "stdout",
     "output_type": "stream",
     "text": [
      "Eduardo\n",
      "Gonzalezfgfdsgfra32421\n"
     ]
    }
   ],
   "source": [
    "nombre = \"Eduardo\"\n",
    "apellido = \"Gonzalez\"\n",
    "\n",
    "print(nombre)\n",
    "print(apellido)"
   ]
  },
  {
   "cell_type": "code",
   "execution_count": 7,
   "id": "dc65ee29",
   "metadata": {},
   "outputs": [
    {
     "name": "stdout",
     "output_type": "stream",
     "text": [
      "manzana\n",
      "5\n",
      "naranja\n"
     ]
    }
   ],
   "source": [
    "frutas = \"manzana\"\n",
    "print(frutas)\n",
    "cantidad_de_frutas = 5\n",
    "print(cantidad_de_frutas)\n",
    "frutas = \"naranja\"\n",
    "print(frutas)\n"
   ]
  },
  {
   "cell_type": "code",
   "execution_count": 11,
   "id": "0594c452",
   "metadata": {},
   "outputs": [
    {
     "name": "stdout",
     "output_type": "stream",
     "text": [
      "naranja, pera\n",
      "naranja, pera\n"
     ]
    }
   ],
   "source": [
    "print(frutas)\n",
    "frutas = \"naranja, pera\"\n",
    "print(frutas)"
   ]
  },
  {
   "cell_type": "markdown",
   "id": "9d56b0a1",
   "metadata": {},
   "source": [
    "## Tipo de datos\n",
    "- int - integer - 112\n",
    "- float - floating - 1.2\n",
    "- str - string - \"eduardo\" \"quinonez' \n",
    "- bool - boolean - TRUE - FALSE"
   ]
  },
  {
   "cell_type": "code",
   "execution_count": null,
   "id": "a18a544b",
   "metadata": {},
   "outputs": [
    {
     "name": "stdout",
     "output_type": "stream",
     "text": [
      "\"Eduardo\" \n"
     ]
    }
   ],
   "source": [
    "numero = 132424\n",
    "numero_decimal = 1.2\n",
    "nombre = '\"Eduardo\" ' \n",
    "cajon_abierto = False\n",
    "\n",
    "print(nombre)"
   ]
  },
  {
   "cell_type": "markdown",
   "id": "ac057bc8",
   "metadata": {},
   "source": [
    "## Operaciones aritméticas \n",
    "\n",
    "- También podemos realizar operaciones matemáticas, como en las calculadoras.\n",
    "- Python lee la cuenta de izquierda a derecha, y sigue reglas de precedencia, como en matemáticas"
   ]
  },
  {
   "cell_type": "markdown",
   "id": "9dea27a9",
   "metadata": {},
   "source": [
    "SUMA +\n",
    "RESTA -\n",
    "DIVISION /\n",
    "MULTIPLICACION *\n",
    "DIVISION ENTERA //"
   ]
  },
  {
   "cell_type": "code",
   "execution_count": 30,
   "id": "a338fed4",
   "metadata": {},
   "outputs": [
    {
     "name": "stdout",
     "output_type": "stream",
     "text": [
      "35000\n",
      "30000\n",
      "5066\n"
     ]
    }
   ],
   "source": [
    "# Suma\n",
    "precio_total = 15000 + 20000\n",
    "print(precio_total)\n",
    "\n",
    "precio_descuento = precio_total - 5000\n",
    "print(precio_descuento)\n",
    "\n",
    "precio_gaseosa = 19000\n",
    "cantidad_gaseosa = 4\n",
    "cantidad_personas = 15\n",
    "precio_final = precio_gaseosa * cantidad_gaseosa\n",
    "promedio_por_persona = precio_final // cantidad_personas\n",
    "print(promedio_por_persona)\n",
    "\n"
   ]
  },
  {
   "cell_type": "markdown",
   "id": "bcc838d2",
   "metadata": {},
   "source": [
    "## Challenge 🤺 - 20m\n",
    "\n",
    "Suma: asignar dos números en dos variables diferentes `cantidad_de_manzanas` y `cantidad_de_naranjas`. Luego sumar ambas variables en `cantidad_de_frutas`. Imprimir la última variable.\n",
    "\n",
    "Resta: asignar un valor numérico a la variable `frutas_vendidas`. Luego, asignar la resta entre `cantidad_de_frutas` y `frutas_vendidas` a la variable `frutas_restantes`. Imprimir la última variable."
   ]
  },
  {
   "cell_type": "code",
   "execution_count": 33,
   "id": "984ad2a0",
   "metadata": {},
   "outputs": [
    {
     "name": "stdout",
     "output_type": "stream",
     "text": [
      "25\n",
      "0\n"
     ]
    }
   ],
   "source": [
    "cantidad_de_manzanas = 15\n",
    "cantidad_de_naranjas = 10\n",
    "cantidad_de_frutas = cantidad_de_manzanas + cantidad_de_naranjas\n",
    "print(cantidad_de_frutas)\n",
    "\n",
    "frutas_vendidas = 25\n",
    "frutas_restantes = cantidad_de_frutas - frutas_vendidas\n",
    "print(frutas_restantes)"
   ]
  },
  {
   "cell_type": "code",
   "execution_count": 46,
   "id": "5552bb2c",
   "metadata": {},
   "outputs": [
    {
     "name": "stdout",
     "output_type": "stream",
     "text": [
      "Eduaro Quinonez\n",
      "Eduaro Quinonez\n",
      "Hola, mi nombre es Eduaro Quinonez\n",
      "Hola, mi nombre es: Eduaro Quinonez\n",
      "Hola, mi nombre es Eduaro Quinonez\n"
     ]
    }
   ],
   "source": [
    "nombre = \"Eduaro\"\n",
    "apellido = \"Quinonez\"\n",
    "\n",
    "nombre_completo = nombre + \" \" + apellido\n",
    "print(nombre_completo)\n",
    "\n",
    "print(nombre + ' ' + apellido)\n",
    "print('Hola, mi nombre es' + ' ' + nombre + ' ' + apellido)\n",
    "print(f\"Hola, mi nombre es: {nombre} {apellido}\")\n",
    "print('Hola, mi nombre es', nombre_completo)"
   ]
  },
  {
   "cell_type": "markdown",
   "id": "8661764a",
   "metadata": {},
   "source": [
    "## Challenge 🤺 - 10m\n",
    "\n",
    "Asignar el nombre y el apellido de tu compañera/o a las variables nombre y apellido. Luego, imprimir una frase, utilizando las variables.\n",
    "EJEMPLO: \"Hola. Me llamo Claudia Melgarejo. Mucho gusto.\""
   ]
  },
  {
   "cell_type": "code",
   "execution_count": 48,
   "id": "325d284c",
   "metadata": {},
   "outputs": [
    {
     "name": "stdout",
     "output_type": "stream",
     "text": [
      "Hola me llamo Fabrizio Vera. Mucho gusto.\n"
     ]
    }
   ],
   "source": [
    "# Solucion Samuel\n",
    "nombre = 'Fabrizio'\n",
    "apellido = 'Vera'\n",
    "print(f'Hola me llamo {nombre} {apellido}. Mucho gusto.')\n"
   ]
  },
  {
   "cell_type": "code",
   "execution_count": null,
   "id": "4e8576ff",
   "metadata": {},
   "outputs": [],
   "source": [
    "nombre = \"Jorge\" \n",
    "apellido = \"Ruiz\" \n",
    "print(f\"Hola, me llamo {nombre} {apellido}, mucho gusto.\")"
   ]
  },
  {
   "cell_type": "code",
   "execution_count": 58,
   "id": "c9004298",
   "metadata": {},
   "outputs": [
    {
     "ename": "ValueError",
     "evalue": "invalid literal for int() with base 10: 'n'",
     "output_type": "error",
     "traceback": [
      "\u001b[31m---------------------------------------------------------------------------\u001b[39m",
      "\u001b[31mValueError\u001b[39m                                Traceback (most recent call last)",
      "\u001b[36mCell\u001b[39m\u001b[36m \u001b[39m\u001b[32mIn[58]\u001b[39m\u001b[32m, line 4\u001b[39m\n\u001b[32m      1\u001b[39m \u001b[38;5;66;03m# nombre = input(\"Cual es tu nomnbre\")\u001b[39;00m\n\u001b[32m      2\u001b[39m \u001b[38;5;66;03m# print(nombre)\u001b[39;00m\n\u001b[32m----> \u001b[39m\u001b[32m4\u001b[39m numero1 = \u001b[38;5;28;43mint\u001b[39;49m\u001b[43m(\u001b[49m\u001b[38;5;28;43minput\u001b[39;49m\u001b[43m(\u001b[49m\u001b[33;43m'\u001b[39;49m\u001b[33;43mdame un numero\u001b[39;49m\u001b[33;43m'\u001b[39;49m\u001b[43m)\u001b[49m\u001b[43m)\u001b[49m\n\u001b[32m      5\u001b[39m numero2 = \u001b[38;5;28minput\u001b[39m(\u001b[33m'\u001b[39m\u001b[33mdame otro numero\u001b[39m\u001b[33m'\u001b[39m) \n\u001b[32m      7\u001b[39m suma = numero1 + \u001b[38;5;28mint\u001b[39m(numero2)\n",
      "\u001b[31mValueError\u001b[39m: invalid literal for int() with base 10: 'n'"
     ]
    }
   ],
   "source": [
    "# nombre = input(\"Cual es tu nomnbre\")\n",
    "# print(nombre)\n",
    "\n",
    "numero1 = int(input('dame un numero'))\n",
    "numero2 = input('dame otro numero') \n",
    "\n",
    "suma = numero1 + int(numero2)\n",
    "print(suma)"
   ]
  },
  {
   "cell_type": "code",
   "execution_count": 55,
   "id": "e4b16ec6",
   "metadata": {},
   "outputs": [
    {
     "name": "stdout",
     "output_type": "stream",
     "text": [
      "<class 'str'>\n"
     ]
    }
   ],
   "source": [
    "print(type(numero1))"
   ]
  },
  {
   "cell_type": "markdown",
   "id": "197a04a4",
   "metadata": {},
   "source": [
    "### Challenge 🤺 - 10m\n",
    "\n",
    "Solicitar al usuario ingresar dos números y almacenarlos en dos variables. Luego, imprimir la suma de los dos números."
   ]
  },
  {
   "cell_type": "code",
   "execution_count": 59,
   "id": "fd16fec4",
   "metadata": {},
   "outputs": [
    {
     "name": "stdout",
     "output_type": "stream",
     "text": [
      "La suma de ambos numeros es 5\n"
     ]
    }
   ],
   "source": [
    "#Se solicita al usuario 2 numeros y se realiza y muestra la suma de ambos\n",
    "numero1 = int(input(\"Ingrese un numero\"))\n",
    "numero2 = int(input(\"Ingrese otro numero\"))\n",
    "suma= numero1 + numero2\n",
    "print(f\"La suma de ambos numeros es {suma}\")"
   ]
  },
  {
   "cell_type": "code",
   "execution_count": 60,
   "id": "60ebbc48",
   "metadata": {},
   "outputs": [
    {
     "name": "stdout",
     "output_type": "stream",
     "text": [
      "<class 'int'>\n",
      "3\n"
     ]
    }
   ],
   "source": [
    "numero1 = input(\"Dame un numero\")\n",
    "numero2 = input(\"Dame otro numero\")\n",
    "suma = int(numero1) + int(numero2)\n",
    "print(type(suma))\n",
    "print(suma)"
   ]
  },
  {
   "cell_type": "markdown",
   "id": "4ed56a6c",
   "metadata": {},
   "source": [
    "## Definición - 20m\n",
    "\n",
    "Las funciones son un conjunto de instrucciones de una operacion que quisieramos volver a repetir en diferentes partes de nuestro programa. \n",
    "\n",
    "Las funciones existen para permitirnos re utilizar codigo que ya escribimos anteriormente, sin la necesidad de volver a escribirlo. "
   ]
  },
  {
   "cell_type": "code",
   "execution_count": null,
   "id": "6cdff297",
   "metadata": {},
   "outputs": [
    {
     "name": "stdout",
     "output_type": "stream",
     "text": [
      "Listo!\n",
      "Abrir el pan\n",
      "agregar jamon\n",
      "Agregar queso\n",
      "Cerrar pan\n"
     ]
    }
   ],
   "source": [
    "def preparar_sandwich():\n",
    "    print('Abrir el pan')\n",
    "    print('agregar jamon')\n",
    "    print('Agregar queso')\n",
    "    print('Cerrar pan')\n",
    "    print('Listo!')\n",
    "\n",
    "preparar_sandwich()\n",
    "#preparar_sandwich()\n",
    "#preparar_sandwich()\n"
   ]
  },
  {
   "cell_type": "markdown",
   "id": "b61d47cf",
   "metadata": {},
   "source": [
    "## Challenge 🤺 - 10m\n",
    "\n",
    "Crear una función de un proceso que se les ocurra que tenga varios pasos.\n",
    "Ejecutar la función 3 veces."
   ]
  },
  {
   "cell_type": "code",
   "execution_count": 65,
   "id": "fbd6264e",
   "metadata": {},
   "outputs": [
    {
     "name": "stdout",
     "output_type": "stream",
     "text": [
      "Levantarse de la cama\n",
      "Manifestar lo deseado\n",
      "Cepillarse los dientes\n",
      "Desayunar full hd\n",
      "Salir a conquistar el mundo\n",
      "Caer al curso de penguin\n",
      "fin\n",
      "Levantarse de la cama\n",
      "Manifestar lo deseado\n",
      "Cepillarse los dientes\n",
      "Desayunar full hd\n",
      "Salir a conquistar el mundo\n",
      "Caer al curso de penguin\n",
      "fin\n",
      "Levantarse de la cama\n",
      "Manifestar lo deseado\n",
      "Cepillarse los dientes\n",
      "Desayunar full hd\n",
      "Salir a conquistar el mundo\n",
      "Caer al curso de penguin\n",
      "fin\n"
     ]
    }
   ],
   "source": [
    "def pasos_cotidianos():\n",
    "    print(\"Levantarse de la cama\")\n",
    "    print(\"Manifestar lo deseado\")\n",
    "    print(\"Cepillarse los dientes\")\n",
    "    print(\"Desayunar full hd\")\n",
    "    print(\"Salir a conquistar el mundo\")\n",
    "    print(\"Caer al curso de penguin\")\n",
    "    print(\"fin\")\n",
    "\n",
    "pasos_cotidianos()\n",
    "pasos_cotidianos()\n",
    "pasos_cotidianos()"
   ]
  },
  {
   "cell_type": "code",
   "execution_count": 70,
   "id": "a555ecd6",
   "metadata": {},
   "outputs": [
    {
     "name": "stdout",
     "output_type": "stream",
     "text": [
      "encontrar al gato\n",
      "agarrar al gato\n",
      "abrir la ducha\n",
      "poner shampoo al gato\n",
      "enjuagar al gato\n",
      "secar al gato\n",
      "liberar al gato\n",
      "mision cumplida, gatito limpito\n",
      " \n",
      "encontrar al gato\n",
      "agarrar al gato\n",
      "abrir la ducha\n",
      "poner shampoo al gato\n",
      "enjuagar al gato\n",
      "secar al gato\n",
      "liberar al gato\n",
      "mision cumplida, gatito limpito\n",
      " \n",
      "encontrar al gato\n",
      "agarrar al gato\n",
      "abrir la ducha\n",
      "poner shampoo al gato\n",
      "enjuagar al gato\n",
      "secar al gato\n",
      "liberar al gato\n",
      "mision cumplida, gatito limpito\n",
      " \n"
     ]
    }
   ],
   "source": [
    "def limpiar_gato ():\n",
    "    #indentacion\n",
    "    print ('encontrar al gato')\n",
    "    print ('agarrar al gato')\n",
    "    print ('abrir la ducha')\n",
    "    print ('poner shampoo al gato')\n",
    "    print ('enjuagar al gato')\n",
    "    print ('secar al gato')\n",
    "    print ('liberar al gato')\n",
    "    print ('mision cumplida, gatito limpito')\n",
    "    print (\" \")\n",
    "\n",
    "limpiar_gato()\n",
    "limpiar_gato()\n",
    "limpiar_gato()"
   ]
  },
  {
   "cell_type": "markdown",
   "id": "a4b50e4a",
   "metadata": {},
   "source": [
    "## Parámetros y argumentos - 25m\n",
    "\n",
    "A veces queremos ejecutar \"casi\" la misma función varias veces. \n",
    "\n",
    "Las funciones pueden recibir información desde afuera, para poder hacer cosas diferentes cada vez que se usan. Esa información se pasa a través de parámetros (cuando definimos la función) y argumentos (cuando llamamos a la función)."
   ]
  },
  {
   "cell_type": "code",
   "execution_count": 71,
   "id": "d268d614",
   "metadata": {},
   "outputs": [
    {
     "name": "stdout",
     "output_type": "stream",
     "text": [
      "Abrir el pan\n",
      "agregar huevo\n",
      "Cerrar pan\n",
      "Listo!\n",
      "Abrir el pan\n",
      "agregar tomate y lechuga\n",
      "Cerrar pan\n",
      "Listo!\n"
     ]
    }
   ],
   "source": [
    "def preparar_sandwich(ingrediente):\n",
    "    print('Abrir el pan')\n",
    "    print(f'agregar {ingrediente}')\n",
    "    print('Cerrar pan')\n",
    "    print('Listo!')\n",
    "\n",
    "preparar_sandwich('huevo')\n",
    "preparar_sandwich('tomate y lechuga')"
   ]
  },
  {
   "cell_type": "markdown",
   "id": "e83e7284",
   "metadata": {},
   "source": [
    "## Challenge 🤺 - 15m\n",
    "\n",
    "Escribir una funcion agregando las caracteriticas de un elemento a comprar e imprima el elemento con sus caracteristicas."
   ]
  },
  {
   "cell_type": "code",
   "execution_count": null,
   "id": "e338c29d",
   "metadata": {},
   "outputs": [
    {
     "name": "stdout",
     "output_type": "stream",
     "text": [
      "entonces \"tu Plan Ideal\" tendra las siguientes caracteristicas\n",
      "plan para: 2 personas\n",
      "que viven en: Asuncion\n",
      "quiero invertir: Gs. 500000 en mi salud\n",
      "Gracias por responder, en breve te enviaremos la mejor opcion para vos\n"
     ]
    }
   ],
   "source": [
    "#Creo una funcion con tres caracteristicas para un plan de salud define_tu_plan\n",
    "def define_tu_plan(cantidad_de_personas, ciudad, precio):\n",
    "    print(f'plan para: {cantidad_de_personas} personas')\n",
    "    print(f'que viven en: {ciudad}')\n",
    "    print(f'quiero invertir: {precio} en mi salud')\n",
    "\n",
    "#Doy mensaje previo a las caracteristicas\n",
    "print('entonces \"tu Plan Ideal\" tendra las siguientes caracteristicas')\n",
    "\n",
    "#Llamo a la funcion para confirmar las caracteristicas\n",
    "define_tu_plan(2, 'Asuncion', 500000)\n",
    "\n",
    "#Despedida\n",
    "print ('Gracias por responder, en breve te enviaremos la mejor opcion para vos')"
   ]
  },
  {
   "cell_type": "code",
   "execution_count": null,
   "id": "17474b46",
   "metadata": {},
   "outputs": [
    {
     "name": "stdout",
     "output_type": "stream",
     "text": [
      "Aqui tiene su telefono Xiaomi\n",
      "Su capacidad es de 512 GB\n",
      "Es de color rojo\n"
     ]
    }
   ],
   "source": [
    "#Crear una funcion que pregunte las caracteristicas de un producto para comprar y que imprima el elemento con sus caracteristicas\n",
    "def elegir_marca_telefono(marca):\n",
    "    print(f\"Aqui tiene su telefono {marca}\")\n",
    "    print(\"Su capacidad es de 512 GB\")\n",
    "    print(\"Es de color rojo\")\n",
    "\n",
    "elegir_marca_telefono(\"Xiaomi\")\n",
    "\n",
    "print('')"
   ]
  },
  {
   "cell_type": "markdown",
   "id": "65d8bf89",
   "metadata": {},
   "source": [
    "Cuando usamos variables en Python, tenemos que entender dónde viven esas variables, es decir, su alcance o scope.\n",
    "\n",
    "Hay dos tipos principales:\n",
    "\n",
    "🔸 Alcance local: la variable vive dentro de una función y solo se puede usar ahí.\n",
    "\n",
    "🔹 Alcance global: la variable vive fuera de todas las funciones y se puede usar en todo el programa."
   ]
  },
  {
   "cell_type": "code",
   "execution_count": 78,
   "id": "43277724",
   "metadata": {},
   "outputs": [
    {
     "name": "stdout",
     "output_type": "stream",
     "text": [
      "Estoy cocinando Carne\n"
     ]
    }
   ],
   "source": [
    "def preparar_comida():\n",
    "    ingrediente = 'Carne'\n",
    "    print(f'Estoy cocinando {ingrediente}')\n",
    "\n",
    "preparar_comida()\n"
   ]
  },
  {
   "cell_type": "code",
   "execution_count": 80,
   "id": "e4d8d454",
   "metadata": {},
   "outputs": [
    {
     "name": "stdout",
     "output_type": "stream",
     "text": [
      "Estoy cocinando Carne\n"
     ]
    }
   ],
   "source": [
    "ingrediente = \"Pollo\"\n",
    "\n",
    "preparar_comida()"
   ]
  },
  {
   "cell_type": "code",
   "execution_count": null,
   "id": "ab78fa7e",
   "metadata": {},
   "outputs": [],
   "source": []
  }
 ],
 "metadata": {
  "kernelspec": {
   "display_name": ".venv",
   "language": "python",
   "name": "python3"
  },
  "language_info": {
   "codemirror_mode": {
    "name": "ipython",
    "version": 3
   },
   "file_extension": ".py",
   "mimetype": "text/x-python",
   "name": "python",
   "nbconvert_exporter": "python",
   "pygments_lexer": "ipython3",
   "version": "3.12.6"
  }
 },
 "nbformat": 4,
 "nbformat_minor": 5
}
