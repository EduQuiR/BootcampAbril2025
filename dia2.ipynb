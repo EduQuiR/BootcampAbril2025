{
 "cells": [
  {
   "cell_type": "code",
   "execution_count": 7,
   "id": "a4e6e505",
   "metadata": {},
   "outputs": [],
   "source": [
    "def saludo_bienvenida(x):\n",
    "    print(f\"Buen dia {x}\")\n"
   ]
  },
  {
   "cell_type": "code",
   "execution_count": 4,
   "id": "8d8a10ed",
   "metadata": {},
   "outputs": [
    {
     "name": "stdout",
     "output_type": "stream",
     "text": [
      "Buen dia Carlos\n"
     ]
    }
   ],
   "source": [
    "saludo_bienvenida('Carlos')"
   ]
  },
  {
   "cell_type": "code",
   "execution_count": null,
   "id": "c8b1de54",
   "metadata": {},
   "outputs": [
    {
     "name": "stdout",
     "output_type": "stream",
     "text": [
      "Buen dia Laura\n"
     ]
    }
   ],
   "source": [
    "\n",
    "saludo_bienvenida(usuario)\n",
    "\n",
    "def saludo (nombre):\n",
    "    print(\"hola\", nombre)\n",
    "\n",
    "saludo('Laura')\n"
   ]
  },
  {
   "cell_type": "code",
   "execution_count": 18,
   "id": "621d02a8",
   "metadata": {},
   "outputs": [
    {
     "name": "stdout",
     "output_type": "stream",
     "text": [
      "Buen dia True\n"
     ]
    }
   ],
   "source": [
    "# usuario = input('Ingrese su nombre')\n",
    "\n",
    "saludo_bienvenida(True)"
   ]
  },
  {
   "cell_type": "markdown",
   "id": "fe1f10d4",
   "metadata": {},
   "source": [
    "## Condicionales\n",
    "\n",
    "Ya conocemos el flujo de python, línea por línea.\n",
    "\n",
    "Las condiciones en programación nos permiten ejecutar diferentes bloques de código según si se cumple o no una condición. Esto es útil cuando queremos que el programa haga algo solo si se cumple una condición específica.\n",
    "\n",
    "Es como un guardia en una puerta controlando si las personas pueden o no ingresar a un lugar."
   ]
  },
  {
   "cell_type": "markdown",
   "id": "770728af",
   "metadata": {},
   "source": [
    "## Operadores de comparación\n",
    "- Mayor >\n",
    "- Menor <\n",
    "- Mayor o igual >=\n",
    "- Menor o igual <=\n",
    "- Es igual == \n",
    "- Diferente !=\n",
    "\n",
    "## Palabras claves\n",
    "\n",
    "- if (si)\n",
    "- elif (sino si)\n",
    "- else (sino)"
   ]
  },
  {
   "cell_type": "code",
   "execution_count": null,
   "id": "6c02e231",
   "metadata": {},
   "outputs": [
    {
     "name": "stdout",
     "output_type": "stream",
     "text": [
      "Es mayor de edad, podes ingresar\n"
     ]
    }
   ],
   "source": [
    "edad = 18\n",
    "\n",
    "if edad < 18:\n",
    "    print('Es menor, no podes ingresar')\n",
    "else:\n",
    "    print('Es mayor de edad, podes ingresar')"
   ]
  },
  {
   "cell_type": "code",
   "execution_count": null,
   "id": "e333afe1",
   "metadata": {},
   "outputs": [
    {
     "name": "stdout",
     "output_type": "stream",
     "text": [
      "Trabajador\n"
     ]
    }
   ],
   "source": [
    "edad_individuo = 56\n",
    "\n",
    "if edad_individuo < 18:\n",
    "    print('Estudiante')\n",
    "elif edad_individuo > 65:\n",
    "    print('Jubilado')\n",
    "else:\n",
    "    print('Trabajador')"
   ]
  },
  {
   "cell_type": "markdown",
   "id": "94232268",
   "metadata": {},
   "source": [
    "## Challenge🤺 - 20m\n",
    "\n",
    "Escribe un programa que pregunte al usuario por su edad y determine si tiene edad suficiente para comprar y consumir alcohol.\n",
    "- Si el usuario tiene mas de 18 pero menos de 21 impirmir \"Podes tomar pero no comprar\"\n",
    "- Si el usuario tiene menos de 18 imprimir \"Juguito nomas\"\n",
    "- Si el usuario tiene mas de 21 imprimir \"Hace lo que quieras\""
   ]
  },
  {
   "cell_type": "code",
   "execution_count": 32,
   "id": "8e797435",
   "metadata": {},
   "outputs": [
    {
     "name": "stdout",
     "output_type": "stream",
     "text": [
      "Hace lo que se te cante\n"
     ]
    }
   ],
   "source": [
    "edad_para_beber = int(input('Cual es tu edad?'))\n",
    "if edad_para_beber < 18:\n",
    "    print('Juguito nomas kp')\n",
    "elif edad_para_beber < 21:\n",
    "    print('Podes tomar pero no comprar')\n",
    "else:\n",
    "    print('Hace lo que se te cante')"
   ]
  },
  {
   "cell_type": "code",
   "execution_count": 27,
   "id": "00b77dd6",
   "metadata": {},
   "outputs": [
    {
     "name": "stdout",
     "output_type": "stream",
     "text": [
      "Juguito nomas\n"
     ]
    }
   ],
   "source": [
    "edad_usuario = int(input (\"Ingresa tu edad kp\"))\n",
    "if edad_usuario < 18:\n",
    "    print(\"Juguito nomas\")\n",
    "elif edad_usuario >= 21 :\n",
    "    print(\"Hace lo que quieras\")\n",
    "else:\n",
    "    print(\"Podes tomar pero no comprar\")"
   ]
  },
  {
   "cell_type": "markdown",
   "id": "9dbeb6a2",
   "metadata": {},
   "source": [
    "## ¿Qué son los operadores lógicos?\n",
    "- Los operadores lógicos nos permiten combinar condiciones.\n",
    "- Los usamos cuando queremos que se cumplan dos o más condiciones a la vez o una u otra.\n",
    "\n",
    "## Operadores Lógicos\n",
    "- and(y) - Se cumple solo si ambas condiciones son verdaderas.\n",
    "- or (o) - Se cumple si al menos una de las condiciones es verdadera.\n",
    "- not (no) - Niega la condición: si es verdadera, la convierte en falsa, y al revés."
   ]
  },
  {
   "cell_type": "code",
   "execution_count": null,
   "id": "d5f4ec3d",
   "metadata": {},
   "outputs": [
    {
     "name": "stdout",
     "output_type": "stream",
     "text": [
      "jubilado\n"
     ]
    }
   ],
   "source": [
    "edad_persona = 65\n",
    "trabaja = False\n",
    "\n",
    "if edad_persona < 18:\n",
    "    print('Estudiante')\n",
    "elif edad_persona < 65 and trabaja == True:\n",
    "    print('Activa laboralmente')\n",
    "elif edad_persona < 65 and trabaja == False:\n",
    "    print('Desempleado')\n",
    "else:\n",
    "    print(\"jubilado\")"
   ]
  },
  {
   "cell_type": "code",
   "execution_count": 38,
   "id": "25d8ba69",
   "metadata": {},
   "outputs": [
    {
     "name": "stdout",
     "output_type": "stream",
     "text": [
      "desempleado\n"
     ]
    }
   ],
   "source": [
    "def chequear_edad(edad_laboral, trabaja):\n",
    "    if edad_laboral < 18:\n",
    "        print('Estudiante')\n",
    "    elif edad_laboral < 65 and trabaja == True:\n",
    "        print('Activo laboralmente')\n",
    "    elif edad_laboral < 65 and trabaja == False:\n",
    "        print('desempleado')\n",
    "    else:\n",
    "        print('jubilado')\n",
    "\n",
    "chequear_edad(30, False)"
   ]
  },
  {
   "cell_type": "markdown",
   "id": "0f8b7963",
   "metadata": {},
   "source": [
    "### Challenge 🤺 - 30m\n",
    "\n",
    "Escribir un programa en el que se pregunte al usuario por una temperatura (en grados Celsius), imprima la temperatura escrita, y luego clasificar la temperatura ingresada en los siguientes niveles:\n",
    "\n",
    "- Entre -10 y 18 grados, que imprima \"Fresquete\".\n",
    "- Entre 19 y 30 grados, que imprima \"Calor'i\".\n",
    "- Entre 31 y 45 grados, que imprima \"Hakuuuuuu\".\n",
    "- Para todo lo demás, imprimir \"Ñamano mba'e!\"."
   ]
  },
  {
   "cell_type": "code",
   "execution_count": 40,
   "id": "c16c80a7",
   "metadata": {},
   "outputs": [
    {
     "name": "stdout",
     "output_type": "stream",
     "text": [
      "La temperatura actual es -11 grados Celcius\n",
      "namano mbae\n"
     ]
    }
   ],
   "source": [
    "temperatura = int(input('Cual es la temperatura actual?: '))\n",
    "print(f'La temperatura actual es {temperatura} grados Celcius')\n",
    "\n",
    "if temperatura >= -10 and temperatura <= 18:\n",
    "    print('Hace fresquete')\n",
    "elif temperatura > 18 and temperatura <= 30:\n",
    "    print(\"Hace Calor'i\")\n",
    "elif temperatura > 30 and temperatura <= 45:\n",
    "    print('Hace hakuuuu.')\n",
    "else:\n",
    "    print('namano mbae')"
   ]
  },
  {
   "cell_type": "code",
   "execution_count": null,
   "id": "abc4eccd",
   "metadata": {},
   "outputs": [],
   "source": [
    "temperatura = int(input('Cual es la temperatura en celsius'))\n",
    "print('Temperatura en celsius es:', temperatura)\n",
    "\n",
    "\n",
    "if temperatura >= -10 and temperatura <= 18:\n",
    "    print('Fresquete bro')\n",
    "elif temperatura >=19 and temperatura <= 30:\n",
    "    print(\"Calor'i lgmt men\")\n",
    "elif temperatura >= 31 and temperatura <= 45:\n",
    "    print('Hakuuuu ajepa don')\n",
    "else:\n",
    "    print(\"Namano mba'e, mba'e la tanto\")"
   ]
  },
  {
   "cell_type": "markdown",
   "id": "b3bb4929",
   "metadata": {},
   "source": [
    "## WHILE\n",
    "While nos permite ejecutar una serie de instrucciones mientras una condicion se cumpla. Al momento que la condicion deje de ser cierta el bucle va parar."
   ]
  },
  {
   "cell_type": "code",
   "execution_count": 46,
   "id": "f11a486f",
   "metadata": {},
   "outputs": [
    {
     "name": "stdout",
     "output_type": "stream",
     "text": [
      "1\n",
      "2\n",
      "3\n",
      "4\n",
      "10\n",
      "numero correcto\n",
      "10\n"
     ]
    }
   ],
   "source": [
    "numero_a_adivinar = 10\n",
    "numero = 3\n",
    "\n",
    "while numero != numero_a_adivinar:\n",
    "    numero = int(input('Introduce un numero'))\n",
    "    print(numero)\n",
    "\n",
    "print('numero correcto')\n",
    "print(numero)"
   ]
  },
  {
   "cell_type": "code",
   "execution_count": null,
   "id": "1a5ce79e",
   "metadata": {},
   "outputs": [
    {
     "name": "stdout",
     "output_type": "stream",
     "text": [
      "El numero es correcto\n",
      "El numero es correcto\n",
      "El numero es correcto\n",
      "El numero es correcto\n",
      "El numero es correcto\n"
     ]
    },
    {
     "ename": "ValueError",
     "evalue": "invalid literal for int() with base 10: ''",
     "output_type": "error",
     "traceback": [
      "\u001b[31m---------------------------------------------------------------------------\u001b[39m",
      "\u001b[31mValueError\u001b[39m                                Traceback (most recent call last)",
      "\u001b[36mCell\u001b[39m\u001b[36m \u001b[39m\u001b[32mIn[48]\u001b[39m\u001b[32m, line 4\u001b[39m\n\u001b[32m      1\u001b[39m numero = \u001b[32m10\u001b[39m\n\u001b[32m      3\u001b[39m \u001b[38;5;28;01mwhile\u001b[39;00m \u001b[38;5;28;01mTrue\u001b[39;00m:\n\u001b[32m----> \u001b[39m\u001b[32m4\u001b[39m     numero_ingresado = \u001b[38;5;28;43mint\u001b[39;49m\u001b[43m(\u001b[49m\u001b[38;5;28;43minput\u001b[39;49m\u001b[43m(\u001b[49m\u001b[33;43m'\u001b[39;49m\u001b[33;43mIntroduce un numero\u001b[39;49m\u001b[33;43m'\u001b[39;49m\u001b[43m)\u001b[49m\u001b[43m)\u001b[49m\n\u001b[32m      5\u001b[39m     \u001b[38;5;28;01mif\u001b[39;00m numero_ingresado == numero:\n\u001b[32m      6\u001b[39m         \u001b[38;5;28mprint\u001b[39m(\u001b[33m'\u001b[39m\u001b[33mEl numero es correcto\u001b[39m\u001b[33m'\u001b[39m)\n",
      "\u001b[31mValueError\u001b[39m: invalid literal for int() with base 10: ''"
     ]
    }
   ],
   "source": [
    "numero = 10\n",
    "\n",
    "while True:\n",
    "    numero_ingresado = int(input('Introduce un numero'))\n",
    "    if numero_ingresado == numero:\n",
    "        break\n",
    "        print('El numero es correcto')\n",
    "    else:\n",
    "        print('numero incorrecto')"
   ]
  },
  {
   "cell_type": "markdown",
   "id": "4eb15a30",
   "metadata": {},
   "source": [
    "### Challenge 🤺 - 20m\n",
    "Escribir un programa que almacene una contraseña en una variable, y pregunte al usuario por la contraseña hasta que introduzca la contraseña correcta.\n",
    "\n",
    "Cuando el usuario ingrese la contrasena correcta, imprimir un mensaje secreto."
   ]
  },
  {
   "cell_type": "code",
   "execution_count": null,
   "id": "057fe75b",
   "metadata": {},
   "outputs": [],
   "source": [
    "contraseña_oculta = \"password\"\n",
    "contraseña_presunta = input (\"Ingrese la contraseña:\")\n",
    "\n",
    "while contraseña_oculta != contraseña_presunta:\n",
    "    print (\"La contraseña es incorrecta, vuelva a introducirla\")\n",
    "    contraseña_presunta = input (\"Ingrese la contraseña nuevamente\")\n",
    "    if contraseña_presunta == contraseña_oculta:\n",
    "        print (\"El mensaje oculto es: HORA DEL CAFE \")\n",
    "        break"
   ]
  },
  {
   "cell_type": "code",
   "execution_count": null,
   "id": "89ef890c",
   "metadata": {},
   "outputs": [],
   "source": [
    "#Cuando el usuario ingrese la contrasena correcta, imprimir un mensaje secreto.\n",
    "\n",
    "#Creo la contraseña por medio de una variable y le asigno un valor\n",
    "contraseña = '35adsad'\n",
    "\n",
    "#Creo la variable que va a pedir la contrasena al usuario\n",
    "contraseña_usuario = (input('Introduzca la contraseña de dos digitos:'))\n",
    "\n",
    "#Creo el bucle para pedir la contrasena\n",
    "while contraseña_usuario != contraseña:\n",
    "    print('Contraseña Incorrecta')``\n",
    "    contraseña_usuario = input('Introduzca la contraseña de dos digitos:')\n",
    "\n",
    "print('El mensaje secreto es: \"Paraguay es Genial\" ')"
   ]
  },
  {
   "cell_type": "markdown",
   "id": "1529b2db",
   "metadata": {},
   "source": [
    "## Listas\n",
    "Una lista es una agrupación de objetos, que pueden ser de distintos tipos de datos. Las construimos colocando los elementos entre corchetes [ ] y separados por comas."
   ]
  },
  {
   "cell_type": "code",
   "execution_count": 25,
   "id": "264e3a76",
   "metadata": {},
   "outputs": [
    {
     "name": "stdout",
     "output_type": "stream",
     "text": [
      "banana\n",
      "['pera', 'manzana', 'banana', 'kiwi']\n",
      "['pera', 'durazno', 'banana', 'kiwi']\n",
      "['durazno', 'banana', 'kiwi']\n",
      "['durazno', 'kiwi']\n",
      "2\n"
     ]
    }
   ],
   "source": [
    "lista_frutas = ['pera', 'manzana', 'banana']\n",
    "\n",
    "#diferentes tipos de datos\n",
    "lista_bool = [True, False, True]\n",
    "lista_numeros = [1, 2, 3, 4]\n",
    "\n",
    "print(lista_frutas[2])\n",
    "\n",
    "#Anhadir\n",
    "lista_frutas.append('kiwi')\n",
    "print(lista_frutas)\n",
    "\n",
    "#Modificar\n",
    "lista_frutas[1] = 'durazno'\n",
    "print(lista_frutas)\n",
    "\n",
    "#Eliminar un elemento especifico\n",
    "lista_frutas.remove('pera')\n",
    "print(lista_frutas)\n",
    "\n",
    "#Eliminar un elemento por indice\n",
    "lista_frutas.pop(1)\n",
    "print(lista_frutas)\n",
    "\n",
    "# Contar elementos de la lista\n",
    "print(len(lista_frutas))"
   ]
  },
  {
   "cell_type": "markdown",
   "id": "ed51e479",
   "metadata": {},
   "source": [
    "### Challenge 🤺 - 10m\n",
    "\n",
    "Crear una lista de 5 elementos. Luego, seguir los siguientes pasos.\n",
    "\n",
    "- Agregar un elemento al final de la lista.\n",
    "\n",
    "- Modificar el segundo elemento.\n",
    "\n",
    "- Eliminar el tercer elemento."
   ]
  },
  {
   "cell_type": "code",
   "execution_count": 26,
   "id": "004a1da1",
   "metadata": {},
   "outputs": [
    {
     "name": "stdout",
     "output_type": "stream",
     "text": [
      "['pan', 'hielo', 'leche', 'ron', 'fernet']\n"
     ]
    }
   ],
   "source": [
    "lista_compras = ['pan', 'queso', 'coca', 'leche', 'ron']\n",
    "\n",
    "lista_compras.append('fernet')\n",
    "\n",
    "lista_compras[1] = 'hielo'\n",
    "\n",
    "lista_compras.pop(2)\n",
    "\n",
    "print(lista_compras)\n"
   ]
  },
  {
   "cell_type": "markdown",
   "id": "21c588f1",
   "metadata": {},
   "source": [
    "Cuando queremos repetir una acción una cierta cantidad de veces, podemos utilizar un bucle iterativo.\n",
    "\n",
    "Iteraciones: una acción repetida una cierta cantidad de veces, pero en cada repetición se tiene en cuenta el valor anterior."
   ]
  },
  {
   "cell_type": "code",
   "execution_count": 27,
   "id": "1a55fdfa",
   "metadata": {},
   "outputs": [
    {
     "name": "stdout",
     "output_type": "stream",
     "text": [
      "dia: 1\n",
      "dia: 2\n",
      "dia: 3\n",
      "dia: 4\n",
      "dia: 5\n",
      "dia: 6\n",
      "dia: 7\n"
     ]
    }
   ],
   "source": [
    "dias_de_la_semana = [1,2,3,4,5,6,7]\n",
    "\n",
    "for dia in dias_de_la_semana:\n",
    "    print(f'dia: {dia}')"
   ]
  },
  {
   "cell_type": "code",
   "execution_count": 28,
   "id": "79bd3743",
   "metadata": {},
   "outputs": [
    {
     "name": "stdout",
     "output_type": "stream",
     "text": [
      "hola buen dia \n",
      "hola buen dia \n",
      "hola buen dia \n",
      "hola buen dia \n",
      "hola buen dia \n"
     ]
    }
   ],
   "source": [
    "for i in range(5):\n",
    "    print('hola buen dia ')"
   ]
  },
  {
   "cell_type": "code",
   "execution_count": 29,
   "id": "8c7c285e",
   "metadata": {},
   "outputs": [
    {
     "name": "stdout",
     "output_type": "stream",
     "text": [
      "pan\n",
      "queso\n",
      "coca\n",
      "leche\n",
      "ron\n"
     ]
    }
   ],
   "source": [
    "lista_compras = ['pan', 'queso', 'coca', 'leche', 'ron']\n",
    "\n",
    "for articulo in lista_compras:\n",
    "    print(articulo)"
   ]
  },
  {
   "cell_type": "markdown",
   "id": "070858de",
   "metadata": {},
   "source": [
    "### Challenge 🤺 - 20m\n",
    "\n",
    "Escribir un programa que itere en un rango de 10 veces. Por cada iteracion multiplicar el iterador por dos e imprimir el resultado."
   ]
  },
  {
   "cell_type": "code",
   "execution_count": 30,
   "id": "7dc8e24c",
   "metadata": {},
   "outputs": [
    {
     "name": "stdout",
     "output_type": "stream",
     "text": [
      "0\n",
      "2\n",
      "4\n",
      "6\n",
      "8\n",
      "10\n",
      "12\n",
      "14\n",
      "16\n",
      "18\n"
     ]
    }
   ],
   "source": [
    "for i in range(10):\n",
    "    print(i *2)"
   ]
  },
  {
   "cell_type": "code",
   "execution_count": 31,
   "id": "21431093",
   "metadata": {},
   "outputs": [
    {
     "name": "stdout",
     "output_type": "stream",
     "text": [
      "2\n",
      "4\n",
      "6\n",
      "8\n",
      "10\n",
      "12\n",
      "14\n",
      "16\n",
      "18\n",
      "20\n"
     ]
    }
   ],
   "source": [
    "for i in range(1,11): # colocando solamente 10, la multiplicacion inicia en 0.\n",
    "    i_multiplicado = i * 2\n",
    "    print(i_multiplicado)"
   ]
  },
  {
   "cell_type": "markdown",
   "id": "9ffb22fb",
   "metadata": {},
   "source": [
    "### Challenge 🤺 - 20m\n",
    "\n",
    "Recorrer los elementos de una lista de marcas e imprimir cada marca *__solamente__* si tiene 6 letras o más.\n"
   ]
  },
  {
   "cell_type": "code",
   "execution_count": null,
   "id": "adf4122b",
   "metadata": {},
   "outputs": [
    {
     "name": "stdout",
     "output_type": "stream",
     "text": [
      "adidas\n",
      "chanel\n",
      "motorola\n"
     ]
    }
   ],
   "source": [
    "#Crea una lista de marcas\n",
    "lista_marcas = ['nike', 'adidas', 'chanel', 'motorola']\n",
    "\n",
    "#Recorrer la lista de marcas\n",
    "for marca in lista_marcas:\n",
    "    #Crear una cond si la palabra tiene mas de 6 carac\n",
    "    if len(marca) >= 6:\n",
    "        #imprimi solamente los correctos\n",
    "        print(marca)"
   ]
  },
  {
   "cell_type": "code",
   "execution_count": 34,
   "id": "dacb6ae5",
   "metadata": {},
   "outputs": [
    {
     "name": "stdout",
     "output_type": "stream",
     "text": [
      "s\n",
      "a\n",
      "l\n",
      "u\n",
      "d\n",
      "o\n"
     ]
    }
   ],
   "source": [
    "for letra in \"saludo\":\n",
    "    print(letra)"
   ]
  },
  {
   "cell_type": "markdown",
   "id": "bb64c8bc",
   "metadata": {},
   "source": [
    "### Challenge 🤺 - 15m\n",
    "\n",
    "Solicitar al usuario que ingrese una frase.\n",
    "\n",
    "Imprimir un mensaje cada vez que se encuentre una letra \"o\"."
   ]
  },
  {
   "cell_type": "code",
   "execution_count": null,
   "id": "9c129b64",
   "metadata": {},
   "outputs": [],
   "source": [
    "#Crear la frase\n",
    "frase = input(\"Coloque la frase\")\n",
    "print(frase)\n",
    "\n",
    "#Crear el iterativo\n",
    "for letras in frase:\n",
    "    if letras ==\"o\":\n",
    "        print('O encontrada')"
   ]
  },
  {
   "cell_type": "code",
   "execution_count": null,
   "id": "559d9fbd",
   "metadata": {},
   "outputs": [
    {
     "name": "stdout",
     "output_type": "stream",
     "text": [
      "la letra o aparece 0 veces\n"
     ]
    }
   ],
   "source": [
    "oracion = input(\"escribe una frase:\")\n",
    "contador = 0\n",
    "\n",
    "for letra in oracion:\n",
    "    if letra.lower() == \"o\":\n",
    "        contador += 1\n",
    "\n",
    "print(f\"la letra o aparece {contador} veces\")"
   ]
  },
  {
   "cell_type": "code",
   "execution_count": 37,
   "id": "420d693c",
   "metadata": {},
   "outputs": [],
   "source": [
    "def saludo(persona):\n",
    "    print(f'hola {persona}')"
   ]
  },
  {
   "cell_type": "code",
   "execution_count": 38,
   "id": "92893ff4",
   "metadata": {},
   "outputs": [
    {
     "name": "stdout",
     "output_type": "stream",
     "text": [
      "hola Carlitos\n"
     ]
    }
   ],
   "source": [
    "saludo(\"Carlitos\")"
   ]
  },
  {
   "cell_type": "markdown",
   "id": "9d6d08c6",
   "metadata": {},
   "source": []
  }
 ],
 "metadata": {
  "kernelspec": {
   "display_name": ".venv",
   "language": "python",
   "name": "python3"
  },
  "language_info": {
   "codemirror_mode": {
    "name": "ipython",
    "version": 3
   },
   "file_extension": ".py",
   "mimetype": "text/x-python",
   "name": "python",
   "nbconvert_exporter": "python",
   "pygments_lexer": "ipython3",
   "version": "3.12.6"
  }
 },
 "nbformat": 4,
 "nbformat_minor": 5
}
